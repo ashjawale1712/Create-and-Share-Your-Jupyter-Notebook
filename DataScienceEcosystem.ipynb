{
  "metadata": {
    "kernelspec": {
      "name": "xeus-python",
      "display_name": "Python (XPython)",
      "language": "python"
    },
    "language_info": {
      "file_extension": ".py",
      "mimetype": "text/x-python",
      "name": "python",
      "version": "3.10.2"
    }
  },
  "nbformat_minor": 4,
  "nbformat": 4,
  "cells": [
    {
      "cell_type": "markdown",
      "source": " # Data Science Tools and Ecosystem",
      "metadata": {}
    },
    {
      "cell_type": "markdown",
      "source": " In this notebook, Data Science Tools and Ecosystem are summarized.",
      "metadata": {}
    },
    {
      "cell_type": "markdown",
      "source": "## Overview: Popular Programming Languages for Data Scientists\n\nSome of the popular languages that Data Scientists use are:\n\n1. **Python**\n\n2. **R**\n\n3. **SQL**\n",
      "metadata": {}
    },
    {
      "cell_type": "markdown",
      "source": "## Overview: Commonly Used Libraries by Data Scientists\n\nSome of the commonly used libraries used by Data Scientists include:\n\n1. **NumPy**\n\n2. **Pandas**\n\n3. **Matplotlib**\n\n4. **scikit-learn**\n\n5. **TensorFlow and PyTorch**\n\n",
      "metadata": {}
    },
    {
      "cell_type": "markdown",
      "source": "## Data Science Tools\n\n| Development Environment Tools |\n|-------------------------------|\n| Jupyter Notebooks             |\n| RStudio                       |\n| VS Code with Python Extension |\n### Below are a few examples of evaluating arithmetic expressions in Python.\n",
      "metadata": {}
    },
    {
      "cell_type": "code",
      "source": "# This is a simple arithmetic expression to multiply then add integers.\nresult = (3 * 4) + 5\nresult",
      "metadata": {
        "trusted": true
      },
      "outputs": [
        {
          "execution_count": 2,
          "output_type": "execute_result",
          "data": {
            "text/plain": "17"
          },
          "metadata": {}
        }
      ],
      "execution_count": 2
    },
    {
      "cell_type": "code",
      "source": "# This will convert 200 minutes to hours by dividing by 60.\nminutes = 200\nhours = minutes / 60\nhours",
      "metadata": {
        "trusted": true
      },
      "outputs": [
        {
          "execution_count": 3,
          "output_type": "execute_result",
          "data": {
            "text/plain": "3.3333333333333335"
          },
          "metadata": {}
        }
      ],
      "execution_count": 3
    },
    {
      "cell_type": "markdown",
      "source": "# Objectives:\n\n- **List popular languages for Data Science:** Explore commonly used programming languages in the field.\n- **Highlight commonly used libraries in Data Science:** Identify key libraries essential for data manipulation, analysis, and visualization.\n- **Introduce Data Science Tools and Ecosystem:** Summarize essential tools and technologies in the data science field.\n- **Demonstrate basic arithmetic operations in Python:** Provide examples of simple arithmetic expressions and operations.\n- **Illustrate unit conversion in Python:** Convert minutes to hours as an example of practical calculations in Python.\n",
      "metadata": {}
    },
    {
      "cell_type": "markdown",
      "source": "## Author\n\nAISHWARYA JAWALE\n",
      "metadata": {}
    }
  ]
}